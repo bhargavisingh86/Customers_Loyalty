{
 "cells": [
  {
   "cell_type": "code",
   "execution_count": 2,
   "metadata": {},
   "outputs": [],
   "source": [
    "import findspark\n",
    "findspark.init()\n",
    "import pyspark\n",
    "from pyspark.sql import *\n",
    "import pyspark.sql.functions as F\n",
    "from pyspark.sql.functions import *\n",
    "from pyspark.sql.types import *\n",
    "\n",
    "#Lifetime package in python is designed to calculate the CLTV \n",
    "import lifetimes\n",
    "import sys"
   ]
  },
  {
   "cell_type": "markdown",
   "metadata": {},
   "source": [
    "### Creating the Spark Session"
   ]
  },
  {
   "cell_type": "code",
   "execution_count": 3,
   "metadata": {},
   "outputs": [
    {
     "data": {
      "text/plain": [
       "pyspark.sql.session.SparkSession"
      ]
     },
     "execution_count": 3,
     "metadata": {},
     "output_type": "execute_result"
    }
   ],
   "source": [
    "spark=SparkSession.builder.appName(\"Spark Programming\").getOrCreate()\n",
    "sc = SQLContext(spark)\n",
    "type(spark)"
   ]
  },
  {
   "cell_type": "markdown",
   "metadata": {},
   "source": [
    "## Reading the Data from the files to the Spark Dataframe:"
   ]
  },
  {
   "cell_type": "code",
   "execution_count": 4,
   "metadata": {},
   "outputs": [],
   "source": [
    "#Creating Schema for the dataframe\n",
    "data_2009 = StructType(fields=[StructField('Invoice_No',StringType(),False),\n",
    "                              StructField('StockCode',StringType(),False),\n",
    "                              StructField('Description',StringType(),True),\n",
    "                              StructField('Quantity',IntegerType(),True),\n",
    "                              StructField('InvoiceDate',DateType(),True),\n",
    "                              StructField('Price',DoubleType(),True),\n",
    "                              StructField('Customer_ID',IntegerType(),False),   #Nullable is set to False so that any rows with customer Id as blank will not be included in dataframe\n",
    "                              StructField('Country',StringType(),True)])\n",
    "\n",
    "\n",
    "data_2010 = StructType(fields=[StructField('Invoice_No',StringType(),False),\n",
    "                              StructField('StockCode',StringType(),False),\n",
    "                              StructField('Description',StringType(),True),\n",
    "                              StructField('Quantity',IntegerType(),True),\n",
    "                              StructField('InvoiceDate',DateType(),True),\n",
    "                              StructField('Price',DoubleType(),True),\n",
    "                              StructField('Customer_ID',IntegerType(),False),\n",
    "                              StructField('Country',StringType(),True)])"
   ]
  },
  {
   "cell_type": "code",
   "execution_count": 5,
   "metadata": {},
   "outputs": [],
   "source": [
    "df1 = spark.read.format('csv').load(\"Data/Online_Retail_Data_2009.csv\",header=True,schema=data_2009)\n",
    "df2=spark.read.format('csv').load(\"Data/Online_Retail_Data_2010.csv\",header=True,schema=data_2010)"
   ]
  },
  {
   "cell_type": "code",
   "execution_count": 6,
   "metadata": {},
   "outputs": [
    {
     "name": "stdout",
     "output_type": "stream",
     "text": [
      "root\n",
      " |-- Invoice_No: string (nullable = true)\n",
      " |-- StockCode: string (nullable = true)\n",
      " |-- Description: string (nullable = true)\n",
      " |-- Quantity: integer (nullable = true)\n",
      " |-- InvoiceDate: date (nullable = true)\n",
      " |-- Price: double (nullable = true)\n",
      " |-- Customer_ID: integer (nullable = true)\n",
      " |-- Country: string (nullable = true)\n",
      "\n"
     ]
    }
   ],
   "source": [
    "df1.printSchema()"
   ]
  },
  {
   "cell_type": "code",
   "execution_count": 7,
   "metadata": {},
   "outputs": [
    {
     "name": "stdout",
     "output_type": "stream",
     "text": [
      "root\n",
      " |-- Invoice_No: string (nullable = true)\n",
      " |-- StockCode: string (nullable = true)\n",
      " |-- Description: string (nullable = true)\n",
      " |-- Quantity: integer (nullable = true)\n",
      " |-- InvoiceDate: date (nullable = true)\n",
      " |-- Price: double (nullable = true)\n",
      " |-- Customer_ID: integer (nullable = true)\n",
      " |-- Country: string (nullable = true)\n",
      "\n"
     ]
    }
   ],
   "source": [
    "df2.printSchema()"
   ]
  },
  {
   "cell_type": "code",
   "execution_count": 8,
   "metadata": {},
   "outputs": [
    {
     "name": "stdout",
     "output_type": "stream",
     "text": [
      "+----------+---------+--------------------+--------+-----------+-----+-----------+--------------+\n",
      "|Invoice_No|StockCode|         Description|Quantity|InvoiceDate|Price|Customer_ID|       Country|\n",
      "+----------+---------+--------------------+--------+-----------+-----+-----------+--------------+\n",
      "|    489461|    72756|  FAIRY CAKE CANDLES|      27| 2009-12-01| 1.49|      17865|United Kingdom|\n",
      "|    489529|    22030|SWALLOWS GREETING...|       1| 2009-12-01| 0.42|      17984|United Kingdom|\n",
      "|    489529|    21866|UNION JACK FLAG L...|       1| 2009-12-01| 1.25|      17984|United Kingdom|\n",
      "|    489564|    90088|CRYSTAL KEY+LOCK ...|      24| 2009-12-01| 0.85|      13526|United Kingdom|\n",
      "|    489580|    21975|PACK OF 60 DINOSA...|      24| 2009-12-01| 0.55|      12921|United Kingdom|\n",
      "|    489580|    21212|PACK OF 72 RETRO ...|      24| 2009-12-01| 0.55|      12921|United Kingdom|\n",
      "|    489593|    21767|FRENCH STYLE WIRE...|       1| 2009-12-01|29.95|      12836|United Kingdom|\n",
      "|    489593|    21791|VINTAGE HEADS AND...|       3| 2009-12-01| 1.25|      12836|United Kingdom|\n",
      "|    489597|    84375|SET OF 20 KIDS CO...|       4| 2009-12-01|  4.3|      18081|United Kingdom|\n",
      "|    489597|    84378|SET OF 3 HEART CO...|       1| 2009-12-01| 2.57|      18093|United Kingdom|\n",
      "|    489602|   48173c|DOOR MAT BLACK FL...|       2| 2009-12-01|13.87|      12368|United Kingdom|\n",
      "|    489609|    79072|TEATIME CAKE TIN ...|       1| 2009-12-01|17.35|      17846|United Kingdom|\n",
      "|    489616|    22086|PAPER CHAIN KIT 5...|      11| 2009-12-01| 6.04|      14900|United Kingdom|\n",
      "|    489672|    20676|     RED SPOTTY BOWL|      16| 2009-12-02| 1.25|      14831|United Kingdom|\n",
      "|    489673|    22195|HEART MEASURING S...|      12| 2009-12-02| 1.65|      14831|United Kingdom|\n",
      "|    489786|    21898|POTTING SHED ROSE...|       1| 2009-12-02| 2.95|      17019|United Kingdom|\n",
      "|    489787|    22197|POPCORN HOLDER , ...|       3| 2009-12-02| 0.85|      15542|United Kingdom|\n",
      "|    489787|    22355|CHARLOTTE BAG , S...|       2| 2009-12-02| 0.85|      15542|United Kingdom|\n",
      "|    489791|    22091|   EMPIRE TISSUE BOX|       2| 2009-12-02| 1.25|      15542|United Kingdom|\n",
      "|    489814|    79321|       CHILLI LIGHTS|       3| 2009-12-02| 4.95|      14669|United Kingdom|\n",
      "+----------+---------+--------------------+--------+-----------+-----+-----------+--------------+\n",
      "only showing top 20 rows\n",
      "\n"
     ]
    }
   ],
   "source": [
    "#Let us merge the two seperated datasets to create a single dataset that contains customer transaction data from year 2009-2011\n",
    "#To do this we will perform union operation\n",
    "data=df1.union(df2).distinct()\n",
    "data.show()"
   ]
  },
  {
   "cell_type": "code",
   "execution_count": 9,
   "metadata": {},
   "outputs": [
    {
     "name": "stdout",
     "output_type": "stream",
     "text": [
      "1033480 8\n"
     ]
    }
   ],
   "source": [
    "#Let us get an idea of shape of the dataset\n",
    "print(data.count(),len(data.columns))"
   ]
  },
  {
   "cell_type": "markdown",
   "metadata": {},
   "source": [
    "## Check for the null values (if any)"
   ]
  },
  {
   "cell_type": "code",
   "execution_count": 10,
   "metadata": {},
   "outputs": [
    {
     "name": "stdout",
     "output_type": "stream",
     "text": [
      "+----------+---------+-----------+--------+-----------+-------+-----------+-------+\n",
      "|Invoice_No|StockCode|Description|Quantity|InvoiceDate|  Price|Customer_ID|Country|\n",
      "+----------+---------+-----------+--------+-----------+-------+-----------+-------+\n",
      "|   1033480|  1033480|    1029205| 1033480|    1033480|1033480|     830390|1033480|\n",
      "+----------+---------+-----------+--------+-----------+-------+-----------+-------+\n",
      "\n"
     ]
    }
   ],
   "source": [
    "def count_nulls(dataframe):\n",
    "    dataframe.agg( *[ count(colmn).alias(colmn) for colmn in dataframe.columns ] ).show()\n",
    "    \n",
    "count_nulls(data)"
   ]
  },
  {
   "cell_type": "code",
   "execution_count": 14,
   "metadata": {},
   "outputs": [
    {
     "name": "stdout",
     "output_type": "stream",
     "text": [
      "+----------+---------+-----------+--------+-----------+------+-----------+-------+\n",
      "|Invoice_No|StockCode|Description|Quantity|InvoiceDate| Price|Customer_ID|Country|\n",
      "+----------+---------+-----------+--------+-----------+------+-----------+-------+\n",
      "|    829247|   829247|     829247|  829247|     829247|829247|     829247| 829247|\n",
      "+----------+---------+-----------+--------+-----------+------+-----------+-------+\n",
      "\n"
     ]
    }
   ],
   "source": [
    "# As we can see from above output that some customer IDs are null. This will not be useful as our analysis is at customer level\n",
    "#So let's drop the rows having Customer_ID as null\n",
    "data = data.dropna(how='any')\n",
    "count_nulls(data)"
   ]
  },
  {
   "cell_type": "markdown",
   "metadata": {},
   "source": [
    "## Let's see how many customers are under our analysis?"
   ]
  },
  {
   "cell_type": "code",
   "execution_count": 13,
   "metadata": {},
   "outputs": [
    {
     "name": "stdout",
     "output_type": "stream",
     "text": [
      "+------------+\n",
      "|#ofCustomers|\n",
      "+------------+\n",
      "|        5937|\n",
      "+------------+\n",
      "\n"
     ]
    }
   ],
   "source": [
    "data.select(countDistinct(data['Customer_ID']).alias(\"#ofCustomers\")).show()"
   ]
  },
  {
   "cell_type": "code",
   "execution_count": 18,
   "metadata": {},
   "outputs": [],
   "source": [
    "#Converting the dataframe to a queriable view. This will allow us to use power of SQL to query the dataframes\n",
    "data.createOrReplaceTempView('Transactions')"
   ]
  },
  {
   "cell_type": "code",
   "execution_count": 23,
   "metadata": {},
   "outputs": [
    {
     "name": "stdout",
     "output_type": "stream",
     "text": [
      "Transaction Start Date:  2009-12-01 Transaction End Date 2011-12-09\n"
     ]
    }
   ],
   "source": [
    "#Getting the date for the first transaction and the date for the last transaction\n",
    "#This will help us to define the time period\n",
    "min_date, max_date = data.select(min(\"InvoiceDate\"), max(\"InvoiceDate\")).first()\n",
    "print(\"Transaction Start Date: \",min_date , \"Transaction End Date\", max_date)"
   ]
  },
  {
   "cell_type": "code",
   "execution_count": 43,
   "metadata": {},
   "outputs": [
    {
     "name": "stdout",
     "output_type": "stream",
     "text": [
      "+---------------+------------------------+\n",
      "|Total_Customers|Customer_Total_Purchases|\n",
      "+---------------+------------------------+\n",
      "|           5937|                   53628|\n",
      "+---------------+------------------------+\n",
      "\n"
     ]
    }
   ],
   "source": [
    "#Let us try to identify the total number of customers we have and their total transactions done within this period\n",
    "sql_q=\"select count(distinct(Customer_ID)) as Total_Customers,count(distinct(Invoice_No)) as Customer_Total_Purchases from Transactions\"\n",
    "spark.sql(sql_q).show()"
   ]
  },
  {
   "cell_type": "code",
   "execution_count": 31,
   "metadata": {},
   "outputs": [
    {
     "name": "stdout",
     "output_type": "stream",
     "text": [
      "+-----------+---------------+\n",
      "|InvoiceDate|Total_Purchases|\n",
      "+-----------+---------------+\n",
      "| 2009-12-01|            166|\n",
      "| 2009-12-02|            133|\n",
      "| 2009-12-03|            150|\n",
      "| 2009-12-04|            107|\n",
      "| 2009-12-05|             32|\n",
      "| 2009-12-06|             90|\n",
      "| 2009-12-07|            123|\n",
      "| 2009-12-08|            170|\n",
      "| 2009-12-09|            114|\n",
      "| 2009-12-10|            123|\n",
      "| 2009-12-11|            121|\n",
      "| 2009-12-13|             77|\n",
      "| 2009-12-14|            122|\n",
      "| 2009-12-15|            123|\n",
      "| 2009-12-16|            106|\n",
      "| 2009-12-17|            162|\n",
      "| 2009-12-18|             84|\n",
      "| 2009-12-20|             40|\n",
      "| 2009-12-21|             52|\n",
      "| 2009-12-22|            203|\n",
      "+-----------+---------------+\n",
      "only showing top 20 rows\n",
      "\n"
     ]
    }
   ],
   "source": [
    "sql_q1=\"select InvoiceDate, count(distinct(Invoice_No)) as Total_Purchases from Transactions group by InvoiceDate order by InvoiceDate; \"\n",
    "results_q1=spark.sql(sql_q1).show()"
   ]
  },
  {
   "cell_type": "code",
   "execution_count": null,
   "metadata": {},
   "outputs": [],
   "source": [
    "plot=results_q1.toHandy()"
   ]
  },
  {
   "cell_type": "code",
   "execution_count": 47,
   "metadata": {},
   "outputs": [
    {
     "name": "stdout",
     "output_type": "stream",
     "text": [
      "+-----------+---------------+\n",
      "|Customer_ID|Total_Purchases|\n",
      "+-----------+---------------+\n",
      "|      15727|             25|\n",
      "|      16574|             17|\n",
      "|      18024|             20|\n",
      "|      17389|             85|\n",
      "|      15619|             15|\n",
      "|      15447|             17|\n",
      "|      18051|             14|\n",
      "|      16339|             18|\n",
      "|      13289|             20|\n",
      "|      14450|             15|\n",
      "|      12940|             13|\n",
      "|      17679|             20|\n",
      "|      17420|             17|\n",
      "|      16386|             23|\n",
      "|      13623|             19|\n",
      "|      17753|             20|\n",
      "|      16503|             24|\n",
      "|      15846|              7|\n",
      "|      14570|             12|\n",
      "|      14832|              4|\n",
      "+-----------+---------------+\n",
      "only showing top 20 rows\n",
      "\n"
     ]
    }
   ],
   "source": [
    "# Now let's check how many transactions are done by each customer over the defined time period:\n",
    "sql_q2=\"select Customer_ID,count(distinct(Invoice_No)) as Total_Purchases from Transactions group by Customer_ID\"\n",
    "spark.sql(sql_q2).show()"
   ]
  },
  {
   "cell_type": "markdown",
   "metadata": {},
   "source": [
    "## Calculating RFM (Recency, Frequency, Monetary Value) Table\n",
    "For each customer, RFM values are defined as:\n",
    "1. Recency\n",
    "2. Frequency:\n",
    "3. Monetary Value: \n",
    "We will also calculate \"Account_Age\" which is the duration for which customer has been with the organization. This is calculated as the number of days between current date and date of the first purchase(Transaction made)\n",
    "\n",
    "Since our last date in the Transactions dataset is 2011-12-09. We will take a date after that as our reference date to calculate the above metrics."
   ]
  },
  {
   "cell_type": "code",
   "execution_count": 49,
   "metadata": {},
   "outputs": [],
   "source": [
    "#Calculating the Total_Sales for each Purchase(or Transaction) for each customer\n",
    "data = data.withColumn(\"Total_Sales\", round(data[\"Quantity\"] * data[\"Price\"], 2))"
   ]
  },
  {
   "cell_type": "code",
   "execution_count": 61,
   "metadata": {},
   "outputs": [],
   "source": [
    "#We will find the first and the last transaction date for each customer\n",
    "first_txn_dt=data.groupBy(data.Customer_ID).agg(min(to_date(data.InvoiceDate)).alias('First_Txn_Date'))\n",
    "last_txn_dt=data.groupBy().agg(max(to_date(data.InvoiceDate)).alias('Last_Txn_Date'))"
   ]
  },
  {
   "cell_type": "code",
   "execution_count": 73,
   "metadata": {},
   "outputs": [],
   "source": [
    "monetary = data.groupBy('Customer_ID').agg(round(sum('Total_Sales'), 2).alias('Monetary_Value'))\n",
    "sub_reslt = (data.crossJoin(last_txn_dt).join(first_txn_dt, data.Customer_ID==first_txn_dt.Customer_ID, how='inner')\n",
    "     .select(data.Customer_ID.alias('Customer_ID'),first_txn_dt.First_Txn_Date,to_date(data.InvoiceDate).alias('Txn_Date'), \n",
    "      last_txn_dt.Last_Txn_Date\n",
    "      )\n",
    "     .distinct()\n",
    "    )"
   ]
  },
  {
   "cell_type": "code",
   "execution_count": 66,
   "metadata": {},
   "outputs": [
    {
     "name": "stdout",
     "output_type": "stream",
     "text": [
      "+-----------+--------------+----------+-------------+\n",
      "|Customer_ID|First_Txn_Date|  Txn_Date|Last_Txn_Date|\n",
      "+-----------+--------------+----------+-------------+\n",
      "|      14450|    2009-12-01|2011-06-12|   2011-12-09|\n",
      "|      14148|    2009-12-14|2011-04-20|   2011-12-09|\n",
      "|      13207|    2009-12-02|2009-12-07|   2011-12-09|\n",
      "|      13329|    2009-12-04|2010-01-22|   2011-12-09|\n",
      "|      14944|    2009-12-10|2009-12-10|   2011-12-09|\n",
      "|      13468|    2009-12-03|2011-01-25|   2011-12-09|\n",
      "|      17346|    2009-12-02|2010-03-03|   2011-12-09|\n",
      "|      13313|    2009-12-02|2011-07-21|   2011-12-09|\n",
      "|      13544|    2009-12-18|2010-10-24|   2011-12-09|\n",
      "|      14245|    2009-12-15|2011-05-26|   2011-12-09|\n",
      "|      15827|    2009-12-08|2011-06-13|   2011-12-09|\n",
      "|      16391|    2009-12-01|2009-12-15|   2011-12-09|\n",
      "|      17677|    2009-12-07|2010-03-22|   2011-12-09|\n",
      "|      17904|    2009-12-01|2010-01-29|   2011-12-09|\n",
      "|      12727|    2009-12-17|2010-02-01|   2011-12-09|\n",
      "|      14760|    2009-12-03|2011-02-15|   2011-12-09|\n",
      "|      17396|    2009-12-14|2010-10-29|   2011-12-09|\n",
      "|      17924|    2009-12-07|2010-01-29|   2011-12-09|\n",
      "|      12436|    2009-12-07|2010-01-29|   2011-12-09|\n",
      "|      12523|    2009-12-02|2011-09-21|   2011-12-09|\n",
      "+-----------+--------------+----------+-------------+\n",
      "only showing top 20 rows\n",
      "\n"
     ]
    }
   ],
   "source": [
    "sub_reslt.show()"
   ]
  },
  {
   "cell_type": "code",
   "execution_count": 69,
   "metadata": {},
   "outputs": [
    {
     "name": "stdout",
     "output_type": "stream",
     "text": [
      "+-----------+--------------+\n",
      "|Customer_ID|Monetary_Value|\n",
      "+-----------+--------------+\n",
      "|      14450|       1182.52|\n",
      "|      16574|       1452.68|\n",
      "|      17679|       2977.51|\n",
      "|      13285|       3427.88|\n",
      "|      15727|       8518.38|\n",
      "|      16503|       3827.72|\n",
      "|      17389|      54616.11|\n",
      "|      15957|       1149.36|\n",
      "|      16861|       1229.82|\n",
      "|      14570|        668.89|\n",
      "|      18024|        357.74|\n",
      "|      12799|        616.19|\n",
      "|      13832|        602.99|\n",
      "|      13623|        2130.2|\n",
      "|      12940|         951.2|\n",
      "|      15447|        628.07|\n",
      "|      17420|       1850.62|\n",
      "|      13289|        633.86|\n",
      "|      17753|        653.45|\n",
      "|      13840|        745.77|\n",
      "+-----------+--------------+\n",
      "only showing top 20 rows\n",
      "\n"
     ]
    }
   ],
   "source": [
    "monetary.show()"
   ]
  },
  {
   "cell_type": "code",
   "execution_count": 82,
   "metadata": {},
   "outputs": [],
   "source": [
    "rf_metrics = (sub_reslt.groupBy(sub_reslt.Customer_ID, sub_reslt.Last_Txn_Date, sub_reslt.First_Txn_Date)\n",
    "           .agg((countDistinct(sub_reslt.Txn_Date)-1).cast(FloatType()).alias('Frequency'),\n",
    "             datediff(max(sub_reslt.Txn_Date), sub_reslt.First_Txn_Date).cast(FloatType()).alias('Recency'),\n",
    "             datediff(a.Last_Txn_Date, a.First_Txn_Date).cast(FloatType()).alias('Account_Age'),\n",
    "            )\n",
    "           .select('Customer_ID','Frequency','Recency','Account_Age')\n",
    "           .orderBy('Customer_ID')\n",
    "          )"
   ]
  },
  {
   "cell_type": "code",
   "execution_count": 83,
   "metadata": {},
   "outputs": [],
   "source": [
    "rfm_metrics=rf_metrics.join(monetary,rf_metrics.Customer_ID==monetary.Customer_ID,how='inner')"
   ]
  },
  {
   "cell_type": "code",
   "execution_count": 84,
   "metadata": {},
   "outputs": [
    {
     "name": "stdout",
     "output_type": "stream",
     "text": [
      "+-----------+---------+-------+-----------+-----------+--------------+\n",
      "|Customer_ID|Frequency|Recency|Account_Age|Customer_ID|Monetary_Value|\n",
      "+-----------+---------+-------+-----------+-----------+--------------+\n",
      "|      12799|      8.0|  196.0|      725.0|      12799|        616.19|\n",
      "|      12940|     11.0|  673.0|      719.0|      12940|         951.2|\n",
      "|      13285|     12.0|  714.0|      737.0|      13285|       3427.88|\n",
      "|      13289|     15.0|   51.0|      731.0|      13289|        633.86|\n",
      "|      13623|     14.0|  707.0|      737.0|      13623|        2130.2|\n",
      "|      13832|      3.0|  670.0|      687.0|      13832|        602.99|\n",
      "|      13840|      6.0|  322.0|      738.0|      13840|        745.77|\n",
      "|      14450|     12.0|  558.0|      738.0|      14450|       1182.52|\n",
      "|      14570|      9.0|  449.0|      729.0|      14570|        668.89|\n",
      "|      14832|      1.0|   67.0|      697.0|      14832|       -249.88|\n",
      "|      15447|     15.0|  407.0|      737.0|      15447|        628.07|\n",
      "|      15619|     10.0|  727.0|      737.0|      15619|        467.44|\n",
      "|      15727|     23.0|  722.0|      738.0|      15727|       8518.38|\n",
      "|      15790|      6.0|  713.0|      723.0|      15790|        346.35|\n",
      "|      15846|      6.0|  331.0|      716.0|      15846|        152.02|\n",
      "|      15957|     11.0|  694.0|      725.0|      15957|       1149.36|\n",
      "|      16339|     15.0|  453.0|      737.0|      16339|         213.6|\n",
      "|      16386|     18.0|  710.0|      738.0|      16386|       1314.07|\n",
      "|      16503|     21.0|  631.0|      737.0|      16503|       3827.72|\n",
      "|      16574|     15.0|  665.0|      736.0|      16574|       1452.68|\n",
      "+-----------+---------+-------+-----------+-----------+--------------+\n",
      "only showing top 20 rows\n",
      "\n"
     ]
    }
   ],
   "source": [
    "rfm_metrics.show()"
   ]
  },
  {
   "cell_type": "code",
   "execution_count": 86,
   "metadata": {},
   "outputs": [
    {
     "name": "stdout",
     "output_type": "stream",
     "text": [
      "+-------+------------------+------------------+-----------------+-----------------+------------------+------------------+\n",
      "|summary|       Customer_ID|         Frequency|          Recency|      Account_Age|       Customer_ID|    Monetary_Value|\n",
      "+-------+------------------+------------------+-----------------+-----------------+------------------+------------------+\n",
      "|  count|              5937|              5937|             5937|             5937|              5937|              5937|\n",
      "|   mean|15314.092470944921|14.203806636348324|520.2135758800741|720.8881590028634|15314.092470944921|2796.5656223682004|\n",
      "| stddev|1714.1657024031815|11.511825880492022|216.3221496679391|65.14393887771152|1714.1657024031815| 12790.79665140313|\n",
      "|    min|             12346|               0.0|              0.0|             15.0|             12346|         -24972.99|\n",
      "|    max|             18287|             277.0|            738.0|            738.0|             18287|         529721.15|\n",
      "+-------+------------------+------------------+-----------------+-----------------+------------------+------------------+\n",
      "\n"
     ]
    }
   ],
   "source": [
    "rfm_metrics.describe().show()"
   ]
  },
  {
   "cell_type": "code",
   "execution_count": null,
   "metadata": {},
   "outputs": [],
   "source": []
  }
 ],
 "metadata": {
  "kernelspec": {
   "display_name": "Python 3",
   "language": "python",
   "name": "python3"
  },
  "language_info": {
   "codemirror_mode": {
    "name": "ipython",
    "version": 3
   },
   "file_extension": ".py",
   "mimetype": "text/x-python",
   "name": "python",
   "nbconvert_exporter": "python",
   "pygments_lexer": "ipython3",
   "version": "3.7.6"
  }
 },
 "nbformat": 4,
 "nbformat_minor": 4
}
